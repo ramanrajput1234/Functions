{
  "nbformat": 4,
  "nbformat_minor": 0,
  "metadata": {
    "colab": {
      "provenance": []
    },
    "kernelspec": {
      "name": "python3",
      "display_name": "Python 3"
    },
    "language_info": {
      "name": "python"
    }
  },
  "cells": [
    {
      "cell_type": "markdown",
      "source": [
        "# *Theory Questions:*"
      ],
      "metadata": {
        "id": "CT53vEUihdYX"
      }
    },
    {
      "cell_type": "markdown",
      "metadata": {
        "id": "ffd1dc29"
      },
      "source": [
        "1. What is the difference between a function and a method in Python?\n",
        "- In Python, both functions and methods are blocks of reusable code that perform a specific task. The key difference lies in how they are called and where they are defined:\n",
        "\n",
        "*   **Function:** A function is a standalone block of code that is not associated with an object or a class. You call a function by its name, followed by parentheses `()`. For example, `print()` is a built-in function.\n",
        "\n",
        "*   **Method:** A method is a function that is associated with an object or a class. It is defined within a class and is called on an instance of that class using dot notation (`.`). For example, if you have a string object `my_string`, `my_string.upper()` calls the `upper()` method of the string object.\n",
        "\n",
        "Think of it this way: a function is like a general tool you can use anywhere, while a method is a tool that belongs to a specific object and can only be used with that object."
      ]
    },
    {
      "cell_type": "markdown",
      "metadata": {
        "id": "3c4eeb16"
      },
      "source": [
        "2. Explain the concept of function arguments and parameters in Python.\n",
        "- In Python, **parameters** are the names listed in the function definition. They act as placeholders for the values the function will receive when it's called. **Arguments** are the actual values passed to the function when you call it.\n",
        "\n",
        "Think of parameters as empty boxes in the function's definition, waiting to be filled. When you call the function, the arguments are the items you put into those boxes.\n",
        "\n",
        "Here's a simple example:"
      ]
    },
    {
      "cell_type": "markdown",
      "metadata": {
        "id": "d6a285d4"
      },
      "source": [
        "3. What are the different ways to define and call a function in Python?\n",
        "\n",
        "There are several ways to define and call functions in Python:\n",
        "\n",
        "**a) Defining a function using `def`:** This is the most common way to define a function."
      ]
    },
    {
      "cell_type": "markdown",
      "source": [
        " 4. What is the purpose of the `return` statement in a Python function?\n",
        ""
      ],
      "metadata": {
        "id": "RqidIdQslQKo"
      }
    },
    {
      "cell_type": "markdown",
      "metadata": {
        "id": "ed22c122"
      },
      "source": [
        "The `return` statement in a Python function serves a crucial purpose: it allows a function to send a value or values back to the part of the code that called it. When a `return` statement is encountered, the function immediately stops executing, and the value specified after `return` is \"returned\" as the result of the function call.\n",
        "\n",
        "Here's a breakdown of its purpose:\n",
        "\n",
        "* **Sending back results:** The primary use of `return` is to provide the output of a function's computation. For example, a function that calculates the sum of two numbers would use `return` to give back the calculated sum.\n",
        "* **Exiting the function:** When `return` is executed, the function terminates. Any code after the `return` statement within that function will not be executed.\n",
        "* **Returning `None` by default:** If a function does not have a `return` statement, or if it has a `return` statement without a value, it implicitly returns `None`. `None` is a special Python object representing the absence of a value.\n",
        "\n",
        "Here's an example:"
      ]
    },
    {
      "cell_type": "markdown",
      "source": [
        " 5. What are iterators in Python and how do they differ from iterables?\n"
      ],
      "metadata": {
        "id": "W3_SwRbvlazo"
      }
    },
    {
      "cell_type": "markdown",
      "metadata": {
        "id": "8d08b9e1"
      },
      "source": [
        "In Python, both iterables and iterators are concepts related to processing elements of a sequence or collection one by one. However, they are distinct:\n",
        "\n",
        "* **Iterable:** An iterable is any Python object that can be looped over or iterated through. This means it can return its elements one at a time. Examples of iterables include lists, tuples, strings, dictionaries, and sets. You can identify an iterable by the presence of an `__iter__` method.\n",
        "\n",
        "* **Iterator:** An iterator is an object that represents a stream of data. It is used to iterate over an iterable. An iterator remembers its state, meaning it knows which element comes next. You can identify an iterator by the presence of both an `__iter__` method and a `__next__` method.\n",
        "\n",
        "Here's the key difference:\n",
        "\n",
        "* An **iterable** is something you can loop over (like a list).\n",
        "* An **iterator** is something that keeps track of where it is in the iteration (like a pointer to the current element).\n",
        "\n",
        "You can get an iterator from an iterable by using the built-in `iter()` function. The `iter()` function calls the `__iter__` method of the iterable and returns an iterator object. You can then use the `next()` function (which calls the `__next__` method of the iterator) to get the next element from the iterator.\n",
        "\n",
        "Here's an example to illustrate:"
      ]
    },
    {
      "cell_type": "markdown",
      "source": [
        " 6. Explain the concept of generators in Python and how they are defined.\n",
        ""
      ],
      "metadata": {
        "id": "LE-AUnijlocA"
      }
    },
    {
      "cell_type": "markdown",
      "metadata": {
        "id": "0fe6c5a8"
      },
      "source": [
        "In Python, generators are a special type of iterable that allows you to iterate over a sequence of values lazily, meaning they generate the values on the fly as you request them, rather than storing them all in memory at once. This makes them very memory-efficient, especially when dealing with large sequences.\n",
        "\n",
        "Generators are defined using a function with the `yield` keyword instead of `return`. When a generator function is called, it doesn't execute the code immediately. Instead, it returns a generator object. When you iterate over this object (e.g., using a `for` loop or the `next()` function), the code inside the generator function is executed until the `yield` statement is encountered. The value specified after `yield` is then produced, and the state of the generator is saved. The next time you request a value from the generator, execution resumes from where it left off.\n",
        "\n",
        "Here's how you define a generator:"
      ]
    },
    {
      "cell_type": "markdown",
      "source": [
        " 7. What are the advantages of using generators over regular functions?\n"
      ],
      "metadata": {
        "id": "-To3oqb6l1Ar"
      }
    },
    {
      "cell_type": "markdown",
      "metadata": {
        "id": "bf68dce5"
      },
      "source": [
        "Generators offer several advantages over regular functions when dealing with sequences of data, particularly when the sequences are large or potentially infinite:\n",
        "\n",
        "* **Memory Efficiency:** This is the most significant advantage. Generators produce values one at a time on demand, rather than generating and storing the entire sequence in memory. This is crucial for handling large datasets or infinite sequences where storing everything would be impossible or lead to memory errors.\n",
        "* **Lazy Evaluation:** Generators perform computations only when a value is requested. This means that if you don't iterate through the entire generator, the remaining values are never computed, saving processing time.\n",
        "* **Simpler Code for Iteration:** Generators can often make your code more concise and readable when dealing with iterative processes. The `yield` keyword makes it easy to write functions that maintain their state between iterations.\n",
        "* **Infinite Sequences:** Generators are ideal for representing infinite sequences of data because they don't need to generate all the values upfront.\n",
        "* **Pipelining Operations:** Generators can be easily chained together to create data processing pipelines, where the output of one generator becomes the input of another. This allows for efficient processing of data streams.\n",
        "\n",
        "In summary, use generators when you need to work with sequences of data in a memory-efficient, lazy, and potentially infinite manner."
      ]
    },
    {
      "cell_type": "markdown",
      "source": [
        " 8. What is a lambda function in Python and when is it typically used?\n"
      ],
      "metadata": {
        "id": "JRi7oChnl7ny"
      }
    },
    {
      "cell_type": "markdown",
      "metadata": {
        "id": "57298437"
      },
      "source": [
        "In Python, a **lambda function** is a small, anonymous function defined using the `lambda` keyword. It can take any number of arguments but can only have one expression. Lambda functions are often used for short, simple operations where a full function definition using `def` would be overly verbose.\n",
        "\n",
        "Here's the basic syntax:"
      ]
    },
    {
      "cell_type": "code",
      "metadata": {
        "colab": {
          "base_uri": "https://localhost:8080/"
        },
        "id": "7979f604",
        "outputId": "7020f368-ec0a-4496-f7a6-dd608cefb8d8"
      },
      "source": [
        "pairs = [(1, 'one'), (2, 'two'), (3, 'three'), (4, 'four')]\n",
        "pairs.sort(key=lambda pair: pair[1])\n",
        "print(pairs)"
      ],
      "execution_count": 1,
      "outputs": [
        {
          "output_type": "stream",
          "name": "stdout",
          "text": [
            "[(4, 'four'), (1, 'one'), (3, 'three'), (2, 'two')]\n"
          ]
        }
      ]
    },
    {
      "cell_type": "markdown",
      "source": [
        " 9. Explain the purpose and usage of the `map()` function in Python.\n"
      ],
      "metadata": {
        "id": "5V8qJdqvmKud"
      }
    },
    {
      "cell_type": "markdown",
      "metadata": {
        "id": "3ecb92d6"
      },
      "source": [
        "The `map()` function in Python is a built-in function that applies a given function to each item of an iterable (like a list, tuple, etc.) and returns an iterator that yields the results. It's a concise way to perform the same operation on every element of a sequence without using an explicit loop.\n",
        "\n",
        "The syntax of the `map()` function is:\n",
        "\n",
        "`map(function, iterable)`\n",
        "\n",
        "* `function`: The function that will be applied to each item of the iterable.\n",
        "* `iterable`: The sequence (list, tuple, string, etc.) whose elements will be passed to the function.\n",
        "\n",
        "The `map()` function returns a `map` object, which is an iterator. To get the results as a list or other sequence type, you need to convert the `map` object using functions like `list()`, `tuple()`, etc."
      ]
    },
    {
      "cell_type": "code",
      "metadata": {
        "colab": {
          "base_uri": "https://localhost:8080/"
        },
        "id": "3ef07657",
        "outputId": "7249a746-785a-43da-b507-67ed9491f99d"
      },
      "source": [
        "# Example using map() to square each number in a list\n",
        "numbers = [1, 2, 3, 4, 5]\n",
        "\n",
        "def square(x):\n",
        "  return x**2\n",
        "\n",
        "squared_numbers = list(map(square, numbers))\n",
        "print(squared_numbers)\n",
        "\n",
        "# Example using map() with a lambda function\n",
        "numbers = [1, 2, 3, 4, 5]\n",
        "squared_numbers_lambda = list(map(lambda x: x**2, numbers))\n",
        "print(squared_numbers_lambda)"
      ],
      "execution_count": 2,
      "outputs": [
        {
          "output_type": "stream",
          "name": "stdout",
          "text": [
            "[1, 4, 9, 16, 25]\n",
            "[1, 4, 9, 16, 25]\n"
          ]
        }
      ]
    },
    {
      "cell_type": "markdown",
      "source": [
        " 10. What is the difference between `map()`, `reduce()`, and `filter()` functions in Python?\n"
      ],
      "metadata": {
        "id": "sKKCCpGTmWPs"
      }
    },
    {
      "cell_type": "markdown",
      "metadata": {
        "id": "d4e21bc3"
      },
      "source": [
        "In Python, `map()`, `filter()`, and `reduce()` are functions that allow you to perform operations on iterables in a more functional programming style. Here's a breakdown of their differences:\n",
        "\n",
        "*   **`map()`:** Applies a function to each item of an iterable and returns an iterator that yields the results. It transforms each element individually.\n",
        "\n",
        "    *   **Purpose:** Transformation of elements.\n",
        "    *   **Output:** An iterator of the transformed elements.\n",
        "    *   **Example:** Squaring each number in a list.\n",
        "\n",
        "*   **`filter()`:** Constructs an iterator from elements of an iterable for which a function returns true. It selects elements based on a condition.\n",
        "\n",
        "    *   **Purpose:** Selection of elements.\n",
        "    *   **Output:** An iterator of the elements that satisfy the condition.\n",
        "    *   **Example:** Getting only the even numbers from a list.\n",
        "\n",
        "*   **`reduce()`:** (In `functools` module) Applies a function of two arguments cumulatively to the items of an iterable, from left to right, so as to reduce the iterable to a single value. It combines elements.\n",
        "\n",
        "    *   **Purpose:** Aggregation or reduction of elements to a single value.\n",
        "    *   **Output:** A single value.\n",
        "    *   **Example:** Calculating the sum of all numbers in a list.\n",
        "\n",
        "Here's a quick summary:\n",
        "\n",
        "*   `map()`: one-to-one transformation (each input element produces one output element)\n",
        "*   `filter()`: many-to-few selection (input elements are filtered based on a condition)\n",
        "*   `reduce()`: many-to-one aggregation (input elements are combined into a single result)"
      ]
    },
    {
      "cell_type": "markdown",
      "source": [
        "11. Using pen & Paper write the internal mechanism for sum operation using  reduce function on this given list:[47,11,42,13];"
      ],
      "metadata": {
        "id": "DqgN_1X-mdlf"
      }
    },
    {
      "cell_type": "markdown",
      "metadata": {
        "id": "07e1a0e1"
      },
      "source": [
        "Okay, let's trace the steps of `reduce()` for a sum operation on the list `[47, 11, 42, 13]`.\n",
        "\n",
        "Recall that `reduce()` applies a function of two arguments cumulatively to the items of an iterable. In the case of a sum operation, the function will be addition.\n",
        "\n",
        "Here's how it works step-by-step:\n",
        "\n",
        "1.  **Initial Step:** `reduce()` takes the first two elements of the list: `47` and `11`.\n",
        "2.  **Apply Function:** It applies the sum function to these two elements: `47 + 11 = 58`. This result becomes the new \"cumulative\" value.\n",
        "3.  **Next Step:** `reduce()` takes the cumulative value (`58`) and the next element from the list (`42`).\n",
        "4.  **Apply Function:** It applies the sum function: `58 + 42 = 100`. This is the new cumulative value.\n",
        "5.  **Final Step:** `reduce()` takes the current cumulative value (`100`) and the last element from the list (`13`).\n",
        "6.  **Apply Function:** It applies the sum function: `100 + 13 = 113`.\n",
        "7.  **Result:** Since there are no more elements in the list, `reduce()` returns the final cumulative value, which is `113`.\n",
        "\n",
        "So, the internal mechanism is a step-by-step process of combining the current cumulative value with the next element from the list using the specified function (in this case, addition) until all elements have been processed."
      ]
    },
    {
      "cell_type": "markdown",
      "source": [
        "## *Practical Questions:*"
      ],
      "metadata": {
        "id": "j3kX1YMTnFXn"
      }
    },
    {
      "cell_type": "markdown",
      "source": [
        " 1. Write a Python function that takes a list of numbers as input and returns the sum of all even numbers in\n",
        "the list.\n"
      ],
      "metadata": {
        "id": "8kntdjmMooVc"
      }
    },
    {
      "cell_type": "code",
      "metadata": {
        "colab": {
          "base_uri": "https://localhost:8080/"
        },
        "id": "e5c760ad",
        "outputId": "77dbca51-5a8e-4d1e-84f4-16b48c10cdd4"
      },
      "source": [
        "def sum_even_numbers(numbers):\n",
        "  \"\"\"\n",
        "  Calculates the sum of all even numbers in a list.\n",
        "\n",
        "  Args:\n",
        "    numbers: A list of numbers.\n",
        "\n",
        "  Returns:\n",
        "    The sum of all even numbers in the list.\n",
        "  \"\"\"\n",
        "  even_sum = 0\n",
        "  for number in numbers:\n",
        "    if number % 2 == 0:\n",
        "      even_sum += number\n",
        "  return even_sum\n",
        "\n",
        "# Example usage:\n",
        "my_list = [1, 2, 3, 4, 5, 6, 7, 8, 9, 10]\n",
        "result = sum_even_numbers(my_list)\n",
        "print(f\"The sum of even numbers in the list is: {result}\")"
      ],
      "execution_count": 3,
      "outputs": [
        {
          "output_type": "stream",
          "name": "stdout",
          "text": [
            "The sum of even numbers in the list is: 30\n"
          ]
        }
      ]
    },
    {
      "cell_type": "markdown",
      "source": [
        " 2. Create a Python function that accepts a string and returns the reverse of that string.\n",
        ""
      ],
      "metadata": {
        "id": "xPOCUOato1IN"
      }
    },
    {
      "cell_type": "code",
      "metadata": {
        "colab": {
          "base_uri": "https://localhost:8080/"
        },
        "id": "71de594d",
        "outputId": "ba7a2cf9-dc67-4dfa-cebb-9e806410a2bb"
      },
      "source": [
        "def reverse_string(input_string):\n",
        "  \"\"\"\n",
        "  Reverses a given string.\n",
        "\n",
        "  Args:\n",
        "    input_string: The string to be reversed.\n",
        "\n",
        "  Returns:\n",
        "    The reversed string.\n",
        "  \"\"\"\n",
        "  return input_string[::-1]\n",
        "\n",
        "# Example usage:\n",
        "my_string = \"Hello, World!\"\n",
        "reversed_string = reverse_string(my_string)\n",
        "print(f\"The original string is: {my_string}\")\n",
        "print(f\"The reversed string is: {reversed_string}\")"
      ],
      "execution_count": 5,
      "outputs": [
        {
          "output_type": "stream",
          "name": "stdout",
          "text": [
            "The original string is: Hello, World!\n",
            "The reversed string is: !dlroW ,olleH\n"
          ]
        }
      ]
    },
    {
      "cell_type": "markdown",
      "source": [
        "3. Implement a Python function that takes a list of integers and returns a new list containing the squares of\n",
        "each number.\n"
      ],
      "metadata": {
        "id": "i5PlL8wHpJti"
      }
    },
    {
      "cell_type": "code",
      "metadata": {
        "colab": {
          "base_uri": "https://localhost:8080/"
        },
        "id": "dd5fedcb",
        "outputId": "b4fcd750-965f-4bcb-be93-893957727eda"
      },
      "source": [
        "def square_numbers(numbers):\n",
        "  \"\"\"\n",
        "  Calculates the square of each number in a list.\n",
        "\n",
        "  Args:\n",
        "    numbers: A list of integers.\n",
        "\n",
        "  Returns:\n",
        "    A new list containing the squares of each number.\n",
        "  \"\"\"\n",
        "  squared_list = [number**2 for number in numbers]\n",
        "  return squared_list\n",
        "\n",
        "# Example usage:\n",
        "my_list = [1, 2, 3, 4, 5]\n",
        "squared_numbers_list = square_numbers(my_list)\n",
        "print(f\"The original list is: {my_list}\")\n",
        "print(f\"The list with squared numbers is: {squared_numbers_list}\")"
      ],
      "execution_count": 6,
      "outputs": [
        {
          "output_type": "stream",
          "name": "stdout",
          "text": [
            "The original list is: [1, 2, 3, 4, 5]\n",
            "The list with squared numbers is: [1, 4, 9, 16, 25]\n"
          ]
        }
      ]
    },
    {
      "cell_type": "markdown",
      "source": [
        " 4. Write a Python function that checks if a given number is prime or not from 1 to 200.\n",
        ""
      ],
      "metadata": {
        "id": "v7H5610FpPxn"
      }
    },
    {
      "cell_type": "code",
      "metadata": {
        "colab": {
          "base_uri": "https://localhost:8080/"
        },
        "id": "634da4ce",
        "outputId": "6b18d187-45ce-4b50-acb7-4155aa4460b1"
      },
      "source": [
        "def is_prime(number):\n",
        "  \"\"\"\n",
        "  Checks if a given number between 1 and 200 is prime.\n",
        "\n",
        "  Args:\n",
        "    number: An integer between 1 and 200.\n",
        "\n",
        "  Returns:\n",
        "    True if the number is prime, False otherwise.\n",
        "    Returns None if the number is outside the specified range.\n",
        "  \"\"\"\n",
        "  if not 1 <= number <= 200:\n",
        "    print(\"Number should be between 1 and 200.\")\n",
        "    return None\n",
        "\n",
        "  if number <= 1:\n",
        "    return False  # Numbers less than or equal to 1 are not prime\n",
        "  if number <= 3:\n",
        "    return True   # 2 and 3 are prime\n",
        "\n",
        "  if number % 2 == 0 or number % 3 == 0:\n",
        "    return False  # Eliminate multiples of 2 and 3\n",
        "\n",
        "  i = 5\n",
        "  while i * i <= number:\n",
        "    if number % i == 0 or number % (i + 2) == 0:\n",
        "      return False\n",
        "    i += 6\n",
        "\n",
        "  return True\n",
        "\n",
        "# Example usage:\n",
        "print(f\"Is 7 prime? {is_prime(7)}\")\n",
        "print(f\"Is 10 prime? {is_prime(10)}\")\n",
        "print(f\"Is 199 prime? {is_prime(199)}\")\n",
        "print(f\"Is 201 prime? {is_prime(201)}\")"
      ],
      "execution_count": 7,
      "outputs": [
        {
          "output_type": "stream",
          "name": "stdout",
          "text": [
            "Is 7 prime? True\n",
            "Is 10 prime? False\n",
            "Is 199 prime? True\n",
            "Number should be between 1 and 200.\n",
            "Is 201 prime? None\n"
          ]
        }
      ]
    },
    {
      "cell_type": "markdown",
      "source": [
        "5. Create an iterator class in Python that generates the Fibonacci sequence up to a specified number of\n",
        "terms."
      ],
      "metadata": {
        "id": "Vluc-bDEpXqm"
      }
    },
    {
      "cell_type": "code",
      "metadata": {
        "colab": {
          "base_uri": "https://localhost:8080/"
        },
        "id": "99b4f3ce",
        "outputId": "0d6f0301-3761-4af0-ad5e-72484e335f0d"
      },
      "source": [
        "class FibonacciIterator:\n",
        "  \"\"\"\n",
        "  An iterator class that generates the Fibonacci sequence up to a specified number of terms.\n",
        "  \"\"\"\n",
        "  def __init__(self, terms):\n",
        "    self.terms = terms\n",
        "    self.count = 0\n",
        "    self.a = 0\n",
        "    self.b = 1\n",
        "\n",
        "  def __iter__(self):\n",
        "    return self\n",
        "\n",
        "  def __next__(self):\n",
        "    if self.count < self.terms:\n",
        "      if self.count == 0:\n",
        "        self.count += 1\n",
        "        return self.a\n",
        "      elif self.count == 1:\n",
        "        self.count += 1\n",
        "        return self.b\n",
        "      else:\n",
        "        next_fib = self.a + self.b\n",
        "        self.a = self.b\n",
        "        self.b = next_fib\n",
        "        self.count += 1\n",
        "        return next_fib\n",
        "    else:\n",
        "      raise StopIteration\n",
        "\n",
        "# Example usage:\n",
        "fib_iterator = FibonacciIterator(10)\n",
        "for number in fib_iterator:\n",
        "  print(number)"
      ],
      "execution_count": 8,
      "outputs": [
        {
          "output_type": "stream",
          "name": "stdout",
          "text": [
            "0\n",
            "1\n",
            "1\n",
            "2\n",
            "3\n",
            "5\n",
            "8\n",
            "13\n",
            "21\n",
            "34\n"
          ]
        }
      ]
    },
    {
      "cell_type": "markdown",
      "source": [
        " 6. Write a generator function in Python that yields the powers of 2 up to a given exponent.\n",
        ""
      ],
      "metadata": {
        "id": "RN0voK5QphDo"
      }
    },
    {
      "cell_type": "code",
      "metadata": {
        "colab": {
          "base_uri": "https://localhost:8080/"
        },
        "id": "6b3f9354",
        "outputId": "49b187d4-e1aa-4d57-aa21-0f12415c589b"
      },
      "source": [
        "def powers_of_two(max_exponent):\n",
        "  \"\"\"\n",
        "  Generates powers of 2 up to a given exponent.\n",
        "\n",
        "  Args:\n",
        "    max_exponent: The maximum exponent for the powers of 2.\n",
        "\n",
        "  Yields:\n",
        "    The powers of 2 from 2^0 up to 2^max_exponent.\n",
        "  \"\"\"\n",
        "  for i in range(max_exponent + 1):\n",
        "    yield 2**i\n",
        "\n",
        "# Example usage:\n",
        "for power in powers_of_two(5):\n",
        "  print(power)"
      ],
      "execution_count": 9,
      "outputs": [
        {
          "output_type": "stream",
          "name": "stdout",
          "text": [
            "1\n",
            "2\n",
            "4\n",
            "8\n",
            "16\n",
            "32\n"
          ]
        }
      ]
    },
    {
      "cell_type": "markdown",
      "source": [
        " 7. Implement a generator function that reads a file line by line and yields each line as a string.\n"
      ],
      "metadata": {
        "id": "tqMpKK8dpsSP"
      }
    },
    {
      "cell_type": "code",
      "metadata": {
        "colab": {
          "base_uri": "https://localhost:8080/"
        },
        "id": "59faa4ab",
        "outputId": "c546ce6f-1655-4494-ebd2-2d72f77fec6c"
      },
      "source": [
        "import os\n",
        "\n",
        "# Create a dummy file for demonstration\n",
        "file_content = \"\"\"This is the first line.\n",
        "This is the second line.\n",
        "This is the third line.\"\"\"\n",
        "\n",
        "with open(\"my_test_file.txt\", \"w\") as f:\n",
        "    f.write(file_content)\n",
        "\n",
        "def read_large_file(file_path):\n",
        "  \"\"\"\n",
        "  A generator function that reads a file line by line.\n",
        "\n",
        "  Args:\n",
        "    file_path: The path to the file to read.\n",
        "\n",
        "  Yields:\n",
        "    Each line of the file as a string.\n",
        "  \"\"\"\n",
        "  with open(file_path, 'r') as f:\n",
        "    for line in f:\n",
        "      yield line.strip() # Use strip() to remove leading/trailing whitespace, including newline characters\n",
        "\n",
        "# Example usage:\n",
        "# Assuming 'my_test_file.txt' exists in the same directory\n",
        "for line in read_large_file(\"my_test_file.txt\"):\n",
        "  print(line)\n",
        "\n",
        "# Clean up the dummy file\n",
        "os.remove(\"my_test_file.txt\")"
      ],
      "execution_count": 10,
      "outputs": [
        {
          "output_type": "stream",
          "name": "stdout",
          "text": [
            "This is the first line.\n",
            "This is the second line.\n",
            "This is the third line.\n"
          ]
        }
      ]
    },
    {
      "cell_type": "markdown",
      "source": [
        " 8. Use a lambda function in Python to sort a list of tuples based on the second element of each tuple\n",
        ""
      ],
      "metadata": {
        "id": "BrQ86tXmp0IX"
      }
    },
    {
      "cell_type": "code",
      "metadata": {
        "colab": {
          "base_uri": "https://localhost:8080/"
        },
        "id": "5162be1e",
        "outputId": "4374ba64-80cf-49d4-af11-9cb477c5889e"
      },
      "source": [
        "# List of tuples\n",
        "my_list = [(1, 'banana'), (2, 'apple'), (3, 'cherry'), (4, 'date')]\n",
        "\n",
        "# Sort the list of tuples based on the second element using a lambda function\n",
        "my_list.sort(key=lambda item: item[1])\n",
        "\n",
        "# Print the sorted list\n",
        "print(my_list)"
      ],
      "execution_count": 11,
      "outputs": [
        {
          "output_type": "stream",
          "name": "stdout",
          "text": [
            "[(2, 'apple'), (1, 'banana'), (3, 'cherry'), (4, 'date')]\n"
          ]
        }
      ]
    },
    {
      "cell_type": "markdown",
      "source": [
        " 9. Write a Python program that uses `map()` to convert a list of temperatures from Celsius to Fahrenheit.\n",
        ""
      ],
      "metadata": {
        "id": "2IdaKDiBp6aC"
      }
    },
    {
      "cell_type": "code",
      "metadata": {
        "colab": {
          "base_uri": "https://localhost:8080/"
        },
        "id": "8b2e97c3",
        "outputId": "65bc6a42-1622-4dd4-c792-3a4eb34027b3"
      },
      "source": [
        "# List of temperatures in Celsius\n",
        "celsius_temps = [0, 10, 20, 30, 40, 50]\n",
        "\n",
        "# Function to convert Celsius to Fahrenheit\n",
        "def celsius_to_fahrenheit(celsius):\n",
        "  return (celsius * 9/5) + 32\n",
        "\n",
        "# Use map() to convert the list of Celsius temperatures to Fahrenheit\n",
        "fahrenheit_temps = list(map(celsius_to_fahrenheit, celsius_temps))\n",
        "\n",
        "# Print the results\n",
        "print(f\"Celsius temperatures: {celsius_temps}\")\n",
        "print(f\"Fahrenheit temperatures: {fahrenheit_temps}\")"
      ],
      "execution_count": 12,
      "outputs": [
        {
          "output_type": "stream",
          "name": "stdout",
          "text": [
            "Celsius temperatures: [0, 10, 20, 30, 40, 50]\n",
            "Fahrenheit temperatures: [32.0, 50.0, 68.0, 86.0, 104.0, 122.0]\n"
          ]
        }
      ]
    },
    {
      "cell_type": "markdown",
      "source": [
        " 10. Create a Python program that uses `filter()` to remove all the vowels from a given string.\n",
        ""
      ],
      "metadata": {
        "id": "xJRgsiueqApx"
      }
    },
    {
      "cell_type": "code",
      "metadata": {
        "colab": {
          "base_uri": "https://localhost:8080/"
        },
        "id": "071e0ead",
        "outputId": "f14d2f11-f557-460e-a468-9796d14435a3"
      },
      "source": [
        "# Given string\n",
        "input_string = \"Hello, World!\"\n",
        "\n",
        "# Function to check if a character is a vowel\n",
        "def is_not_vowel(char):\n",
        "  return char.lower() not in 'aeiou'\n",
        "\n",
        "# Use filter() to remove vowels from the string\n",
        "filtered_characters = filter(is_not_vowel, input_string)\n",
        "\n",
        "# Join the filtered characters back into a string\n",
        "result_string = \"\".join(filtered_characters)\n",
        "\n",
        "# Print the results\n",
        "print(f\"Original string: {input_string}\")\n",
        "print(f\"String without vowels: {result_string}\")"
      ],
      "execution_count": 13,
      "outputs": [
        {
          "output_type": "stream",
          "name": "stdout",
          "text": [
            "Original string: Hello, World!\n",
            "String without vowels: Hll, Wrld!\n"
          ]
        }
      ]
    },
    {
      "cell_type": "markdown",
      "source": [
        "11) Imagine an accounting routine used in a book shop. It works on a list with sublists, which look like this\n",
        "\n",
        " Write a Python program, which returns a list with 2-tuples. Each tuple consists of the order number and the\n",
        "product of the price per item and the quantity. The product should be increased by 10,- € if the value of the\n",
        "order is smaller than 100,00 €.\n",
        " Write a Python program using lambda and map.\n"
      ],
      "metadata": {
        "id": "UWvFLNJ7qMuQ"
      }
    },
    {
      "cell_type": "code",
      "metadata": {
        "colab": {
          "base_uri": "https://localhost:8080/"
        },
        "id": "01e017e3",
        "outputId": "e43838cc-bfbb-4441-e2e7-7ca4ba3be561"
      },
      "source": [
        "orders = [\n",
        "    [34587, ('Learning python,Mark Lutz', 4, 40.95)],\n",
        "    [98762, ('Programming python, Mark Lutz', 5, 56.80)],\n",
        "    [77226, ('Head first python, Paul Barry', 3, 32.95)],\n",
        "    [88112, ('Einfuhrung in python3, Bernd Klein', 3, 24.99)],\n",
        "\n",
        "]\n",
        "\n",
        "# Use map and lambda to process the orders\n",
        "processed_orders = list(map(\n",
        "    lambda order: (order[0], order[1][1] * order[1][2] + (10 if order[1][1] * order[1][2] < 100 else 0)),\n",
        "    orders\n",
        "))\n",
        "\n",
        "# Print the result\n",
        "print(processed_orders)"
      ],
      "execution_count": 15,
      "outputs": [
        {
          "output_type": "stream",
          "name": "stdout",
          "text": [
            "[(34587, 163.8), (98762, 284.0), (77226, 108.85000000000001), (88112, 84.97)]\n"
          ]
        }
      ]
    }
  ]
}